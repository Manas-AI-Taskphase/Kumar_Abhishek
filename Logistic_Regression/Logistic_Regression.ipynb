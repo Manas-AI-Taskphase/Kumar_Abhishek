{
 "cells": [
  {
   "cell_type": "code",
   "execution_count": 52,
   "id": "4d05829f-3541-46ee-9dca-982b16c15feb",
   "metadata": {},
   "outputs": [],
   "source": [
    "import numpy as np\n",
    "import pandas as pd\n",
    "import matplotlib.pyplot as plt"
   ]
  },
  {
   "cell_type": "code",
   "execution_count": 53,
   "id": "539cba8c-a28d-4def-bd23-21bda14618a6",
   "metadata": {},
   "outputs": [],
   "source": [
    "train_data = pd.read_csv('train.csv')\n",
    "test_data = pd.read_csv('test.csv')\n",
    "\n",
    "train_data['Sex'] = train_data['Sex'].map({'male': 0, 'female': 1})\n",
    "test_data['Sex'] = test_data['Sex'].map({'male': 0, 'female': 1})"
   ]
  },
  {
   "cell_type": "code",
   "execution_count": 54,
   "id": "f91a102e-1c29-4970-b6e1-46d43ec66d43",
   "metadata": {},
   "outputs": [],
   "source": [
    "def zs_normalization(x):\n",
    "   \n",
    "    median = np.median(x, axis = 0)\n",
    "    std_dev = np.std(x, axis = 0)\n",
    "    return (x - median)/std_dev"
   ]
  },
  {
   "cell_type": "code",
   "execution_count": 55,
   "id": "94a8a61c-b5fe-432d-89e9-27d7dcc4bd29",
   "metadata": {},
   "outputs": [],
   "source": [
    "x_train = train_data.drop(['Survived', 'Name'], axis = 1).values\n",
    "x_train = zs_normalization(x_train)\n",
    "\n",
    "x_test = test_data.drop(['Survived', 'Name'], axis = 1).values\n",
    "\n",
    "x_test = zs_normalization(x_test)\n",
    "\n",
    "y_train = train_data['Survived'].values\n",
    "y_test = test_data['Survived'].values"
   ]
  },
  {
   "cell_type": "code",
   "execution_count": 56,
   "id": "184e6547-19de-4c8b-a2a5-a019c5d41c64",
   "metadata": {},
   "outputs": [],
   "source": [
    "def f(x, w, b):\n",
    "    f = 1/(1 + np.exp(-np.dot(x, w) - b))\n",
    "    bin_f = np.where(f<0.5, 0, 1)\n",
    "    return bin_f"
   ]
  },
  {
   "cell_type": "code",
   "execution_count": 57,
   "id": "352ff22c-6180-4cee-9ae1-0c1970d0ad43",
   "metadata": {},
   "outputs": [],
   "source": [
    "def gradient_descent(x, y, w, b, alpha, itr, reg):\n",
    "    m = len(y)\n",
    "    \n",
    "    for i in range(itr+1):\n",
    "        y_cap = f(x, w, b)\n",
    "        error = (y_cap - y)\n",
    "\n",
    "        temp_w = (1-(reg/m))*w - (alpha/m)*np.dot(error, x)\n",
    "        temp_b = b - (2*alpha/m)*np.sum(error)\n",
    "        w = temp_w\n",
    "        b = temp_b\n",
    "\n",
    "    return w,b"
   ]
  },
  {
   "cell_type": "code",
   "execution_count": 58,
   "id": "d1c8f402-58b8-46bd-b51e-b8893a16f4dc",
   "metadata": {},
   "outputs": [],
   "source": [
    "def f1_score(y_true, y_predict):\n",
    "    \n",
    "    tp = np.sum((y_true == 1) & (y_predict == 1))\n",
    "    tn = np.sum((y_true == 0) & (y_predict == 0))\n",
    "    fp = np.sum((y_true == 0) & (y_predict == 1))\n",
    "    fn = np.sum((y_true == 1) & (y_predict == 0))\n",
    "    \n",
    "    precision = tp/(tp + fp)\n",
    "    recall = tp/(tp + fn)\n",
    "\n",
    "    if precision + recall == 0:\n",
    "        return 0\n",
    "\n",
    "    f1_score = 2*(precision*recall)/(precision + recall)\n",
    "    return f1_score"
   ]
  },
  {
   "cell_type": "code",
   "execution_count": 59,
   "id": "eb9535bf-f669-4917-a5a4-c92c030dc42f",
   "metadata": {},
   "outputs": [
    {
     "name": "stdout",
     "output_type": "stream",
     "text": [
      "Training Accuracy: 0.724373576309795\n"
     ]
    }
   ],
   "source": [
    "w = np.zeros(x_train.shape[1])\n",
    "b = 0\n",
    "\n",
    "alpha = 0.1\n",
    "itr = 10000\n",
    "reg = 0.001\n",
    "\n",
    "\n",
    "\n",
    "w, b = gradient_descent(x_train, y_train, w, b, alpha, itr, reg)\n",
    "\n",
    "\n",
    "y_cap_train = f(x_train, w, b)\n",
    "f1_train = f1_score(y_train, y_cap_train)\n",
    "print ('Training Accuracy:', f1_train)"
   ]
  },
  {
   "cell_type": "code",
   "execution_count": 60,
   "id": "f68fcc67-6aeb-4702-8154-c7ff865abffe",
   "metadata": {},
   "outputs": [
    {
     "name": "stdout",
     "output_type": "stream",
     "text": [
      "Testing Accuracy: 0.7219512195121951\n"
     ]
    }
   ],
   "source": [
    "y_cap_test = f(x_test, w, b)\n",
    "f1_test = f1_score(y_test, y_cap_test)\n",
    "print ('Testing Accuracy:', f1_test)\n",
    "\n",
    "    "
   ]
  },
  {
   "cell_type": "code",
   "execution_count": null,
   "id": "79876f7c-6883-4807-83ef-bd7b88a1b338",
   "metadata": {},
   "outputs": [],
   "source": []
  }
 ],
 "metadata": {
  "kernelspec": {
   "display_name": "Python 3 (ipykernel)",
   "language": "python",
   "name": "python3"
  },
  "language_info": {
   "codemirror_mode": {
    "name": "ipython",
    "version": 3
   },
   "file_extension": ".py",
   "mimetype": "text/x-python",
   "name": "python",
   "nbconvert_exporter": "python",
   "pygments_lexer": "ipython3",
   "version": "3.12.2"
  }
 },
 "nbformat": 4,
 "nbformat_minor": 5
}
