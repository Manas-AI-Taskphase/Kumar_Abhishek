{
 "cells": [
  {
   "cell_type": "code",
   "execution_count": 121,
   "id": "fc9cbe35-35d2-4e4e-9677-e2c6ab6e08e4",
   "metadata": {},
   "outputs": [
    {
     "name": "stdout",
     "output_type": "stream",
     "text": [
      "Training Accuracy: 0.7105263157894737\n",
      "Testing Accuracy: 0.7471698113207547\n"
     ]
    }
   ],
   "source": [
    "import numpy as np\n",
    "import pandas as pd\n",
    "import matplotlib.pyplot as plt\n",
    "\n",
    "train_data = pd.read_csv('train.csv')\n",
    "test_data = pd.read_csv('test.csv')\n",
    "\n",
    "train_data['Sex'] = train_data['Sex'].map({'male': 0, 'female': 1})\n",
    "test_data['Sex'] = test_data['Sex'].map({'male': 0, 'female': 1})\n",
    "\n",
    "def zs_normalization(x, axis = 0):\n",
    "    mean = np.mean(x, axis = 0)\n",
    "    std_dev = np.std(x)\n",
    "    return (x - mean)/std_dev\n",
    "\n",
    "x_train = train_data.drop(['Survived', 'Name'], axis = 1).values\n",
    "x_train = zs_normalization(x_train)\n",
    "\n",
    "x_test = test_data.drop(['Survived', 'Name'], axis = 1).values\n",
    "x_test = zs_normalization(x_test)\n",
    "\n",
    "y_train = train_data['Survived'].values\n",
    "y_test = test_data['Survived'].values\n",
    "\n",
    "def f(x, w, b):\n",
    "    f = 1/(1 + np.exp(-np.dot(x, w) - b))\n",
    "    bin_f = np.where(f<0.5, 0, 1)\n",
    "    return bin_f\n",
    "\n",
    "def gradient_descent(x, y, w, b, alpha, itr, reg):\n",
    "    m = len(y)\n",
    "    \n",
    "    for i in range(itr+1):\n",
    "        y_cap = f(x, w, b)\n",
    "        error = (y_cap - y)\n",
    "\n",
    "        temp_w = (1-(reg/m))*w - (alpha/m)*np.dot(error, x)\n",
    "        temp_b = b - (2*alpha/m)*np.sum(error)\n",
    "        w = temp_w\n",
    "        b = temp_b\n",
    "\n",
    "    return w,b\n",
    "\n",
    "def f1_score(y_true, y_predict):\n",
    "    \n",
    "    tp = np.sum((y_true == 1) & (y_predict == 1))\n",
    "    tn = np.sum((y_true == 0) & (y_predict == 0))\n",
    "    fp = np.sum((y_true == 0) & (y_predict == 1))\n",
    "    fn = np.sum((y_true == 1) & (y_predict == 0))\n",
    "    \n",
    "    precision = tp/(tp + fp)\n",
    "    recall = tp/(tp + fn)\n",
    "\n",
    "    if precision + recall == 0:\n",
    "        return 0\n",
    "\n",
    "    f1_score = 2*(precision*recall)/(precision + recall)\n",
    "    return f1_score\n",
    "\n",
    "w = np.zeros(x_train.shape[1])\n",
    "b = 0\n",
    "\n",
    "alpha = 0.001\n",
    "itr = 10000\n",
    "reg = 0.001\n",
    "\n",
    "w, b = gradient_descent(x_train, y_train, w, b, alpha, itr, reg)\n",
    "\n",
    "\n",
    "y_cap_train = f(x_train, w, b)\n",
    "f1_train = f1_score(y_train, y_cap_train)\n",
    "print ('Training Accuracy:', f1_train)\n",
    "\n",
    "\n",
    "y_cap_test = f(x_test, w, b)\n",
    "f1_test = f1_score(y_test, y_cap_test)\n",
    "print ('Testing Accuracy:', f1_test)\n",
    "\n",
    "    "
   ]
  },
  {
   "cell_type": "code",
   "execution_count": null,
   "id": "0e698e08-04de-4f92-8172-4ccbbf880f19",
   "metadata": {},
   "outputs": [],
   "source": [
    "\n"
   ]
  },
  {
   "cell_type": "code",
   "execution_count": null,
   "id": "697e4403-0db3-4878-a180-e55c7e2e9572",
   "metadata": {},
   "outputs": [],
   "source": []
  },
  {
   "cell_type": "code",
   "execution_count": null,
   "id": "9cb0c4b2-03b7-4f8b-bb71-e90821ab6230",
   "metadata": {},
   "outputs": [],
   "source": []
  }
 ],
 "metadata": {
  "kernelspec": {
   "display_name": "Python 3 (ipykernel)",
   "language": "python",
   "name": "python3"
  },
  "language_info": {
   "codemirror_mode": {
    "name": "ipython",
    "version": 3
   },
   "file_extension": ".py",
   "mimetype": "text/x-python",
   "name": "python",
   "nbconvert_exporter": "python",
   "pygments_lexer": "ipython3",
   "version": "3.12.2"
  }
 },
 "nbformat": 4,
 "nbformat_minor": 5
}
